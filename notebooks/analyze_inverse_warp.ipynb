{
 "cells": [
  {
   "cell_type": "code",
   "execution_count": 58,
   "metadata": {
    "collapsed": true
   },
   "outputs": [],
   "source": [
    "import imageio\n",
    "import matplotlib.pyplot as plt\n",
    "import numpy as np\n",
    "import torch\n",
    "import torch.nn.functional as F\n",
    "\n",
    "from inverse_warp import pixel2cam, pose_vec2mat, cam2pixel\n",
    "from mc.visualisation import INTRINSICS, frame_to_tensor, tensor_to_frame"
   ]
  },
  {
   "cell_type": "code",
   "execution_count": 9,
   "outputs": [],
   "source": [
    "depth_img = np.full((64, 64, 1), 150, dtype=np.uint8)\n",
    "depth = np.transpose(depth_img, (2, 0, 1))\n",
    "depth = torch.from_numpy(depth.astype(np.float32))"
   ],
   "metadata": {
    "collapsed": false,
    "pycharm": {
     "name": "#%%\n"
    }
   }
  },
  {
   "cell_type": "code",
   "execution_count": 18,
   "outputs": [
    {
     "data": {
      "text/plain": "<Figure size 432x288 with 1 Axes>",
      "image/png": "[encoded data removed]"
     },
     "metadata": {
      "needs_background": "light"
     },
     "output_type": "display_data"
    }
   ],
   "source": [
    "plt.imshow(depth_img, cmap=\"gray\")\n",
    "plt.show()"
   ],
   "metadata": {
    "collapsed": false,
    "pycharm": {
     "name": "#%%\n"
    }
   }
  },
  {
   "cell_type": "markdown",
   "source": [
    "Transform depth to camera coordinate system:"
   ],
   "metadata": {
    "collapsed": false,
    "pycharm": {
     "name": "#%% md\n"
    }
   }
  },
  {
   "cell_type": "code",
   "execution_count": 19,
   "outputs": [],
   "source": [
    "cam_coords = pixel2cam(depth, INTRINSICS.inverse())"
   ],
   "metadata": {
    "collapsed": false,
    "pycharm": {
     "name": "#%%\n"
    }
   }
  },
  {
   "cell_type": "code",
   "execution_count": 7,
   "outputs": [
    {
     "data": {
      "text/plain": "tensor([-317.2829, -307.3678, -297.4527, -287.5376, -277.6226, -267.7075,\n        -257.7924, -247.8773, -237.9622, -228.0471, -218.1320, -208.2169,\n        -198.3018, -188.3867, -178.4716, -168.5565, -158.6414, -148.7264,\n        -138.8113, -128.8962, -118.9811, -109.0660,  -99.1509,  -89.2358,\n         -79.3207,  -69.4056,  -59.4905,  -49.5754,  -39.6604,  -29.7453,\n         -19.8302,   -9.9151,    0.0000,    9.9151,   19.8302,   29.7453,\n          39.6604,   49.5754,   59.4905,   69.4056,   79.3207,   89.2358,\n          99.1509,  109.0660,  118.9811,  128.8962,  138.8112,  148.7263,\n         158.6415,  168.5566,  178.4716,  188.3867,  198.3018,  208.2169,\n         218.1320,  228.0471,  237.9622,  247.8773,  257.7924,  267.7075,\n         277.6226,  287.5376,  297.4527,  307.3678])"
     },
     "execution_count": 7,
     "metadata": {},
     "output_type": "execute_result"
    }
   ],
   "source": [
    "cam_coords.squeeze()[0][0]"
   ],
   "metadata": {
    "collapsed": false,
    "pycharm": {
     "name": "#%%\n"
    }
   }
  },
  {
   "cell_type": "code",
   "execution_count": 8,
   "outputs": [
    {
     "data": {
      "text/plain": "tensor([-317.2829, -317.2829, -317.2829, -317.2829, -317.2829, -317.2829,\n        -317.2829, -317.2829, -317.2829, -317.2829, -317.2829, -317.2829,\n        -317.2829, -317.2829, -317.2829, -317.2829, -317.2829, -317.2829,\n        -317.2829, -317.2829, -317.2829, -317.2829, -317.2829, -317.2829,\n        -317.2829, -317.2829, -317.2829, -317.2829, -317.2829, -317.2829,\n        -317.2829, -317.2829, -317.2829, -317.2829, -317.2829, -317.2829,\n        -317.2829, -317.2829, -317.2829, -317.2829, -317.2829, -317.2829,\n        -317.2829, -317.2829, -317.2829, -317.2829, -317.2829, -317.2829,\n        -317.2829, -317.2829, -317.2829, -317.2829, -317.2829, -317.2829,\n        -317.2829, -317.2829, -317.2829, -317.2829, -317.2829, -317.2829,\n        -317.2829, -317.2829, -317.2829, -317.2829])"
     },
     "execution_count": 8,
     "metadata": {},
     "output_type": "execute_result"
    }
   ],
   "source": [
    "cam_coords.squeeze()[1][0]"
   ],
   "metadata": {
    "collapsed": false,
    "pycharm": {
     "name": "#%%\n"
    }
   }
  },
  {
   "cell_type": "code",
   "execution_count": 20,
   "outputs": [
    {
     "data": {
      "text/plain": "tensor([150., 150., 150., 150., 150., 150., 150., 150., 150., 150., 150., 150.,\n        150., 150., 150., 150., 150., 150., 150., 150., 150., 150., 150., 150.,\n        150., 150., 150., 150., 150., 150., 150., 150., 150., 150., 150., 150.,\n        150., 150., 150., 150., 150., 150., 150., 150., 150., 150., 150., 150.,\n        150., 150., 150., 150., 150., 150., 150., 150., 150., 150., 150., 150.,\n        150., 150., 150., 150.])"
     },
     "execution_count": 20,
     "metadata": {},
     "output_type": "execute_result"
    }
   ],
   "source": [
    "cam_coords.squeeze()[2][0]"
   ],
   "metadata": {
    "collapsed": false,
    "pycharm": {
     "name": "#%%\n"
    }
   }
  },
  {
   "cell_type": "markdown",
   "source": [
    "Transform pose vector to transformation matrix:"
   ],
   "metadata": {
    "collapsed": false
   }
  },
  {
   "cell_type": "code",
   "execution_count": 28,
   "outputs": [],
   "source": [
    "pose = np.array([1, 2, 3, 0, 0, 0])\n",
    "pose = torch.from_numpy(pose.astype(np.float32)).unsqueeze(0)"
   ],
   "metadata": {
    "collapsed": false,
    "pycharm": {
     "name": "#%%\n"
    }
   }
  },
  {
   "cell_type": "code",
   "execution_count": 29,
   "outputs": [
    {
     "data": {
      "text/plain": "tensor([[[1., 0., 0., 1.],\n         [0., 1., 0., 2.],\n         [0., 0., 1., 3.]]])"
     },
     "execution_count": 29,
     "metadata": {},
     "output_type": "execute_result"
    }
   ],
   "source": [
    "pose_mat = pose_vec2mat(pose, \"euler\")\n",
    "pose_mat"
   ],
   "metadata": {
    "collapsed": false,
    "pycharm": {
     "name": "#%%\n"
    }
   }
  },
  {
   "cell_type": "markdown",
   "source": [
    "Get projection matrix for camera frame to source pixel frame:"
   ],
   "metadata": {
    "collapsed": false,
    "pycharm": {
     "name": "#%% md\n"
    }
   }
  },
  {
   "cell_type": "code",
   "execution_count": 31,
   "outputs": [],
   "source": [
    "proj_cam_to_src_pixel = INTRINSICS @ pose_mat\n",
    "rot, tr = proj_cam_to_src_pixel[..., :3], proj_cam_to_src_pixel[..., -1:]"
   ],
   "metadata": {
    "collapsed": false,
    "pycharm": {
     "name": "#%%\n"
    }
   }
  },
  {
   "cell_type": "code",
   "execution_count": 33,
   "outputs": [
    {
     "data": {
      "text/plain": "tensor([[[15.1285,  0.0000, 32.0000],\n         [ 0.0000, 15.1285, 32.0000],\n         [ 0.0000,  0.0000,  1.0000]]])"
     },
     "execution_count": 33,
     "metadata": {},
     "output_type": "execute_result"
    }
   ],
   "source": [
    "rot"
   ],
   "metadata": {
    "collapsed": false,
    "pycharm": {
     "name": "#%%\n"
    }
   }
  },
  {
   "cell_type": "code",
   "execution_count": 34,
   "outputs": [
    {
     "data": {
      "text/plain": "tensor([[[111.1285],\n         [126.2569],\n         [  3.0000]]])"
     },
     "execution_count": 34,
     "metadata": {},
     "output_type": "execute_result"
    }
   ],
   "source": [
    "tr"
   ],
   "metadata": {
    "collapsed": false,
    "pycharm": {
     "name": "#%%\n"
    }
   }
  },
  {
   "cell_type": "markdown",
   "source": [
    "Apply the transformation and rotation to the camera coordinates:"
   ],
   "metadata": {
    "collapsed": false
   }
  },
  {
   "cell_type": "code",
   "execution_count": 42,
   "outputs": [
    {
     "data": {
      "text/plain": "torch.Size([1, 64, 64, 2])"
     },
     "execution_count": 42,
     "metadata": {},
     "output_type": "execute_result"
    }
   ],
   "source": [
    "src_pixel_coords = cam2pixel(cam_coords, rot, tr)\n",
    "src_pixel_coords.shape"
   ],
   "metadata": {
    "collapsed": false,
    "pycharm": {
     "name": "#%%\n"
    }
   }
  },
  {
   "cell_type": "code",
   "execution_count": 47,
   "outputs": [
    {
     "data": {
      "text/plain": "tensor([[-0.9769, -0.9458, -0.9147,  ...,  0.9216,  0.9527,  0.9838],\n        [-0.9769, -0.9458, -0.9147,  ...,  0.9216,  0.9527,  0.9838],\n        [-0.9769, -0.9458, -0.9147,  ...,  0.9216,  0.9527,  0.9838],\n        ...,\n        [-0.9769, -0.9458, -0.9147,  ...,  0.9216,  0.9527,  0.9838],\n        [-0.9769, -0.9458, -0.9147,  ...,  0.9216,  0.9527,  0.9838],\n        [-0.9769, -0.9458, -0.9147,  ...,  0.9216,  0.9527,  0.9838]])"
     },
     "execution_count": 47,
     "metadata": {},
     "output_type": "execute_result"
    }
   ],
   "source": [
    "src_pixel_coords.squeeze()[:,:,0]"
   ],
   "metadata": {
    "collapsed": false,
    "pycharm": {
     "name": "#%%\n"
    }
   }
  },
  {
   "cell_type": "code",
   "execution_count": 48,
   "outputs": [
    {
     "data": {
      "text/plain": "tensor([[-0.9738, -0.9738, -0.9738,  ..., -0.9738, -0.9738, -0.9738],\n        [-0.9427, -0.9427, -0.9427,  ..., -0.9427, -0.9427, -0.9427],\n        [-0.9116, -0.9116, -0.9116,  ..., -0.9116, -0.9116, -0.9116],\n        ...,\n        [ 0.9247,  0.9247,  0.9247,  ...,  0.9247,  0.9247,  0.9247],\n        [ 0.9559,  0.9559,  0.9559,  ...,  0.9559,  0.9559,  0.9559],\n        [ 0.9870,  0.9870,  0.9870,  ...,  0.9870,  0.9870,  0.9870]])"
     },
     "execution_count": 48,
     "metadata": {},
     "output_type": "execute_result"
    }
   ],
   "source": [
    "src_pixel_coords.squeeze()[:,:,1]"
   ],
   "metadata": {
    "collapsed": false,
    "pycharm": {
     "name": "#%%\n"
    }
   }
  },
  {
   "cell_type": "markdown",
   "source": [
    "Apply new camera to old frame:"
   ],
   "metadata": {
    "collapsed": false,
    "pycharm": {
     "name": "#%% md\n"
    }
   }
  },
  {
   "cell_type": "code",
   "execution_count": 56,
   "outputs": [],
   "source": [
    "img = imageio.imread(\"../mc/Navigation/v3_key_nectarine_spirit-3_3238-4450/frames/141.png\")\n",
    "img_tensor = frame_to_tensor(img)\n",
    "projected_img = F.grid_sample(img_tensor, src_pixel_coords, padding_mode=\"zeros\", align_corners=True)"
   ],
   "metadata": {
    "collapsed": false,
    "pycharm": {
     "name": "#%%\n"
    }
   }
  },
  {
   "cell_type": "code",
   "execution_count": 59,
   "outputs": [
    {
     "data": {
      "text/plain": "<Figure size 432x288 with 1 Axes>",
      "image/png": "[encoded data removed]"
     },
     "metadata": {
      "needs_background": "light"
     },
     "output_type": "display_data"
    }
   ],
   "source": [
    "plt.imshow(tensor_to_frame(projected_img))\n",
    "plt.show()"
   ],
   "metadata": {
    "collapsed": false,
    "pycharm": {
     "name": "#%%\n"
    }
   }
  }
 ],
 "metadata": {
  "kernelspec": {
   "display_name": "Python 3",
   "language": "python",
   "name": "python3"
  },
  "language_info": {
   "codemirror_mode": {
    "name": "ipython",
    "version": 2
   },
   "file_extension": ".py",
   "mimetype": "text/x-python",
   "name": "python",
   "nbconvert_exporter": "python",
   "pygments_lexer": "ipython2",
   "version": "2.7.6"
  }
 },
 "nbformat": 4,
 "nbformat_minor": 0
}